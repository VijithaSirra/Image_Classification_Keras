{
 "cells": [
  {
   "cell_type": "code",
   "execution_count": null,
   "metadata": {},
   "outputs": [],
   "source": [
    "import keras \n",
    "from keras.layers import Dense, Conv2D , MaxPool2D , Flatten , Dropout, Activation, BatchNormalization\n",
    "from keras.optimizers import Adam\n",
    "import numpy as np\n",
    "import os\n",
    "import cv2\n",
    "import time\n",
    "from random import shuffle"
   ]
  },
  {
   "cell_type": "code",
   "execution_count": null,
   "metadata": {
    "scrolled": false
   },
   "outputs": [],
   "source": [
    "inputs = keras.Input(shape = (64,64,3), name=\"input_layer\")\n",
    "\n",
    "x = Conv2D(32, 3, strides = 2, padding=\"same\")(inputs)\n",
    "x = Activation(\"relu\")(x)\n",
    "x = BatchNormalization()(x)\n",
    "x = Dropout(0.2)(x)\n",
    "x = Conv2D(32, 3, strides = 1, padding=\"same\")(x)\n",
    "x = Activation(\"relu\")(x)\n",
    "x = BatchNormalization()(x)\n",
    "x = Dropout(0.2)(x)\n",
    "\n",
    "x = Conv2D(64, 3, strides = 2, padding=\"same\")(x)\n",
    "x = Activation(\"relu\")(x)\n",
    "x = BatchNormalization()(x)\n",
    "x = Dropout(0.2)(x)\n",
    "x = Conv2D(64, 3, strides = 1, padding=\"same\")(x)\n",
    "x = Activation(\"relu\")(x)\n",
    "x = BatchNormalization()(x)\n",
    "x = Dropout(0.2)(x)\n",
    "\n",
    "\n",
    "x = Conv2D(128, 3, strides = 2, padding=\"same\")(x)\n",
    "x = Activation(\"relu\")(x)\n",
    "x = BatchNormalization()(x)\n",
    "x = Dropout(0.2)(x)\n",
    "x = Conv2D(128, 3, strides = 1, padding=\"same\")(x)\n",
    "x = Activation(\"relu\")(x)\n",
    "x = BatchNormalization()(x)\n",
    "x = Dropout(0.2)(x)\n",
    "\n",
    "x = Conv2D(256, 3, strides = 2, padding=\"same\")(x)\n",
    "x = Activation(\"relu\")(x)\n",
    "x = BatchNormalization()(x)\n",
    "x = Dropout(0.2)(x)\n",
    "x = Conv2D(256, 3, strides = 1, padding=\"same\")(x)\n",
    "x = Activation(\"relu\")(x)\n",
    "x = BatchNormalization()(x)\n",
    "x = Dropout(0.2)(x)\n",
    "\n",
    "x = Flatten()(x)\n",
    "x = Dense(128)(x)\n",
    "x = Activation(\"relu\")(x)\n",
    "x = Dense(2)(x)\n",
    "x = Activation(\"softmax\", name=\"output_layer\")(x)"
   ]
  },
  {
   "cell_type": "code",
   "execution_count": null,
   "metadata": {},
   "outputs": [],
   "source": [
    "model = keras.Model(inputs=inputs , outputs=x)"
   ]
  },
  {
   "cell_type": "code",
   "execution_count": null,
   "metadata": {},
   "outputs": [],
   "source": [
    "model.summary()"
   ]
  },
  {
   "cell_type": "code",
   "execution_count": null,
   "metadata": {},
   "outputs": [],
   "source": [
    "model.compile(loss='sparse_categorical_crossentropy', optimizer='adam', metrics = ['accuracy'])"
   ]
  },
  {
   "cell_type": "code",
   "execution_count": null,
   "metadata": {},
   "outputs": [],
   "source": [
    "images_list = []\n",
    "for root, folder, files in os.walk(\"/home/grace/Projects/Dog_Vs_Cat/Train_data/\"):\n",
    "    for file in files :\n",
    "        images_list.append(root + file)\n",
    "images_list , test = images_list[0:20000] , images_list[20000:]\n",
    "print(\"No of Train Images : \", len(images_list))\n",
    "print(\"No of Test Images  : \", len(test))"
   ]
  },
  {
   "cell_type": "code",
   "execution_count": null,
   "metadata": {},
   "outputs": [],
   "source": [
    "def train_gen(images_list, batch):\n",
    "    while True:\n",
    "        shuffle(images_list)\n",
    "        total_images = len(images_list)\n",
    "        for i in range(0, total_images-batch, batch):\n",
    "            image_batch = []\n",
    "            label_batch = []\n",
    "            for image in images_list[i:i+batch]:\n",
    "                single_image = cv2.imread(image)/255.0 - 0.5\n",
    "                single_image = cv2.resize(single_image, (64, 64))\n",
    "                image_batch.append(single_image)\n",
    "                label = int(image.split(\"/\")[-1].split(\"_\")[0])\n",
    "                label_batch.append(label) #np.eye(2)[label])\n",
    "            label_batch = np.array(label_batch, dtype=np.float32)\n",
    "            image_batch = np.array(image_batch)\n",
    "            yield image_batch, label_batch"
   ]
  },
  {
   "cell_type": "code",
   "execution_count": null,
   "metadata": {},
   "outputs": [],
   "source": [
    "def test_gen(test, batch) :\n",
    "    while True:\n",
    "        test_images = len(test)\n",
    "        shuffle(test)\n",
    "        for j in range(0, test_images-batch, batch):\n",
    "            test_image_batch = []\n",
    "            test_label_batch = []   \n",
    "            for test_image in test[j:j+batch]:\n",
    "                single_test_image = cv2.imread(test_image)/255.0 - 0.5\n",
    "                single_test_image = cv2.resize(single_test_image, (64, 64))\n",
    "                test_image_batch.append(single_test_image)\n",
    "                test_label = int(test_image.split(\"/\")[-1].split(\"_\")[0])\n",
    "                test_label_batch.append(test_label) #np.eye(2)[test_label])\n",
    "            test_label_batch = np.array(test_label_batch, dtype=np.float32)\n",
    "            test_image_batch = np.array(test_image_batch)\n",
    "            yield test_image_batch, test_label_batch"
   ]
  },
  {
   "cell_type": "code",
   "execution_count": null,
   "metadata": {},
   "outputs": [],
   "source": [
    "batch_size = 32\n",
    "model.fit_generator(train_gen(images_list, batch=batch_size), \n",
    "                    steps_per_epoch = len(images_list) // batch_size,\n",
    "                    validation_data = test_gen(test, batch=batch_size), \n",
    "                    validation_steps = len(test) // batch_size,\n",
    "                    epochs=25)"
   ]
  },
  {
   "cell_type": "code",
   "execution_count": null,
   "metadata": {},
   "outputs": [],
   "source": [
    "model.save(\"KerasModel_ILNL.h5\")"
   ]
  }
 ],
 "metadata": {
  "kernelspec": {
   "display_name": "Python 3",
   "language": "python",
   "name": "python3"
  },
  "language_info": {
   "codemirror_mode": {
    "name": "ipython",
    "version": 3
   },
   "file_extension": ".py",
   "mimetype": "text/x-python",
   "name": "python",
   "nbconvert_exporter": "python",
   "pygments_lexer": "ipython3",
   "version": "3.6.9"
  }
 },
 "nbformat": 4,
 "nbformat_minor": 4
}
